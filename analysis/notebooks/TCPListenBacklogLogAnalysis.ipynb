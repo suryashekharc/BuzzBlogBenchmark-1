{
 "cells": [
  {
   "cell_type": "markdown",
   "metadata": {},
   "source": [
    "# TCP Listen Backlog Log Analysis"
   ]
  },
  {
   "cell_type": "markdown",
   "metadata": {},
   "source": [
    "## Functionalities\n",
    "- Plot listen backlog length of TCP sockets.\n",
    "\n",
    "## Input\n",
    "Log files are read from a directory in `../data`. This directory is assumed to have the following structure:\n",
    "```\n",
    "logs/\n",
    "  [node-1]/\n",
    "    tcplistenbl-bpftrace.tar.gz\n",
    "  ...\n",
    "  [node-n]/\n",
    "    tcplistenbl-bpftrace.tar.gz\n",
    "```"
   ]
  },
  {
   "cell_type": "markdown",
   "metadata": {},
   "source": [
    "## Notebook Configuration"
   ]
  },
  {
   "cell_type": "code",
   "execution_count": null,
   "metadata": {},
   "outputs": [],
   "source": [
    "########## GENERAL\n",
    "# Name of the directory in `../data`\n",
    "EXPERIMENT_DIRNAME = \"BuzzBlogBenchmark_[TIMESTAMP]\""
   ]
  },
  {
   "cell_type": "markdown",
   "metadata": {},
   "source": [
    "## Notebook Setup"
   ]
  },
  {
   "cell_type": "code",
   "execution_count": null,
   "metadata": {},
   "outputs": [],
   "source": [
    "import os\n",
    "import sys\n",
    "\n",
    "sys.path.append(os.path.abspath(os.path.join(\"..\")))\n",
    "from utils.utils import *\n",
    "from utils.plot_experiment_graphs import TCPListenBacklogLogAnalysis\n",
    "\n",
    "experiment_dirpath = os.path.join(os.path.abspath(\"\"), \"..\", \"data\", EXPERIMENT_DIRNAME)"
   ]
  },
  {
   "cell_type": "markdown",
   "metadata": {},
   "source": [
    "## Log Parsing & Processing"
   ]
  },
  {
   "cell_type": "code",
   "execution_count": null,
   "metadata": {},
   "outputs": [],
   "source": [
    "tcp_listen_backlog_log_analysis = TCPListenBacklogLogAnalysis(experiment_dirpath)"
   ]
  },
  {
   "cell_type": "markdown",
   "metadata": {},
   "source": [
    "## Listen Backlog Length of TCP Sockets"
   ]
  },
  {
   "cell_type": "code",
   "execution_count": null,
   "metadata": {},
   "outputs": [],
   "source": [
    "########## ZOOM IN\n",
    "# Minimum and maximum time (in sec)\n",
    "INTERVAL = None\n",
    "\n",
    "tcp_listen_backlog_log_analysis.plot_listen_backlog_length(interval=INTERVAL)"
   ]
  },
  {
   "cell_type": "markdown",
   "metadata": {},
   "source": [
    "### Comparison"
   ]
  },
  {
   "cell_type": "code",
   "execution_count": null,
   "metadata": {},
   "outputs": [],
   "source": [
    "########## ZOOM IN\n",
    "# Minimum and maximum time (in sec)\n",
    "INTERVAL = (314.5, 316.5)\n",
    "\n",
    "tcp_listen_backlog_log_analysis.plot_listen_backlog_length_comparison(interval=INTERVAL)"
   ]
  },
  {
   "cell_type": "markdown",
   "metadata": {},
   "source": [
    "## Summary"
   ]
  },
  {
   "cell_type": "code",
   "execution_count": null,
   "metadata": {},
   "outputs": [],
   "source": [
    "stats = tcp_listen_backlog_log_analysis.calculate_stats()\n",
    "for node_name in get_node_names(experiment_dirpath):\n",
    "  node_label = get_node_label(experiment_dirpath, node_name)\n",
    "  print(\"%s: %s\" % (node_name, node_label))\n",
    "  print(\"  Count (Requests)\")\n",
    "  print(\"  P99.9: %s\" % stats[\"tcp_%s_listenbl_p999\" % node_label])\n",
    "  print(\"    P99: %s\" % stats[\"tcp_%s_listenbl_p99\" % node_label])\n",
    "  print(\"    P95: %s\" % stats[\"tcp_%s_listenbl_p95\" % node_label])\n",
    "  print(\"    P50: %s\" % stats[\"tcp_%s_listenbl_p50\" % node_label])\n",
    "  print(\"    Avg: %s\" % stats[\"tcp_%s_listenbl_avg\" % node_label])\n",
    "  print(\"    Std: %s\" % stats[\"tcp_%s_listenbl_std\" % node_label])\n",
    "  print(\"    Max: %s\" % stats[\"tcp_%s_listenbl_max\" % node_label])"
   ]
  }
 ],
 "metadata": {
  "interpreter": {
   "hash": "916dbcbb3f70747c44a77c7bcd40155683ae19c65e1c03b4aa3499c5328201f1"
  },
  "kernelspec": {
   "display_name": "Python 3 (ipykernel)",
   "language": "python",
   "name": "python3"
  },
  "language_info": {
   "codemirror_mode": {
    "name": "ipython",
    "version": 3
   },
   "file_extension": ".py",
   "mimetype": "text/x-python",
   "name": "python",
   "nbconvert_exporter": "python",
   "pygments_lexer": "ipython3",
   "version": "3.8.10"
  }
 },
 "nbformat": 4,
 "nbformat_minor": 2
}
