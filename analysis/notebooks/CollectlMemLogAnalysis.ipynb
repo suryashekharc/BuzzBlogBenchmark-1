{
 "cells": [
  {
   "cell_type": "markdown",
   "metadata": {},
   "source": [
    "# Collectl Mem Log Analysis"
   ]
  },
  {
   "cell_type": "markdown",
   "metadata": {},
   "source": [
    "## Functionalities\n",
    "- Plot memory utilization graphs.\n",
    "\n",
    "## Input\n",
    "Log files are read from a directory in `../data`. This directory is assumed to have the following structure:\n",
    "```\n",
    "logs/\n",
    "  [node-1]/\n",
    "    collectl.tar.gz\n",
    "  ...\n",
    "  [node-n]/\n",
    "    collectl.tar.gz\n",
    "```"
   ]
  },
  {
   "cell_type": "markdown",
   "metadata": {},
   "source": [
    "## Notebook Configuration"
   ]
  },
  {
   "cell_type": "code",
   "execution_count": null,
   "metadata": {},
   "outputs": [],
   "source": [
    "########## GENERAL\n",
    "# Name of the directory in `../data`\n",
    "EXPERIMENT_DIRNAME = \"BuzzBlogBenchmark_[TIMESTAMP]\""
   ]
  },
  {
   "cell_type": "markdown",
   "metadata": {},
   "source": [
    "## Notebook Setup"
   ]
  },
  {
   "cell_type": "code",
   "execution_count": null,
   "metadata": {},
   "outputs": [],
   "source": [
    "import os\n",
    "import sys\n",
    "\n",
    "sys.path.append(os.path.abspath(os.path.join(\"..\")))\n",
    "from utils.utils import *\n",
    "from utils.plot_experiment_graphs import CollectlMemLogAnalysis\n",
    "\n",
    "experiment_dirpath = os.path.join(os.path.abspath(\"\"), \"..\", \"data\", EXPERIMENT_DIRNAME)"
   ]
  },
  {
   "cell_type": "markdown",
   "metadata": {},
   "source": [
    "## Log Parsing & Processing"
   ]
  },
  {
   "cell_type": "code",
   "execution_count": null,
   "metadata": {},
   "outputs": [],
   "source": [
    "collectl_mem_log_analysis = CollectlMemLogAnalysis(experiment_dirpath)"
   ]
  },
  {
   "cell_type": "markdown",
   "metadata": {},
   "source": [
    "## Memory Monitoring (1-sec window)"
   ]
  },
  {
   "cell_type": "code",
   "execution_count": null,
   "metadata": {},
   "outputs": [],
   "source": [
    "########## MEMORY\n",
    "# Analyzed metric (options: \"used\", \"free\", \"slab\", \"mapped\", \"anon\", \"anonh\", \"inactive\", \"hits\")\n",
    "COLLECTL_MEM_METRIC = \"free\"\n",
    "\n",
    "collectl_mem_log_analysis.plot_averaged_mem_metric(mem_metric=COLLECTL_MEM_METRIC)"
   ]
  },
  {
   "cell_type": "markdown",
   "metadata": {},
   "source": [
    "## Memory Monitoring (millisec window)"
   ]
  },
  {
   "cell_type": "code",
   "execution_count": null,
   "metadata": {},
   "outputs": [],
   "source": [
    "########## ZOOM IN\n",
    "# Minimum and maximum time (in sec)\n",
    "INTERVAL = None\n",
    "########## MEMORY\n",
    "# Analyzed metric (options: \"used\", \"free\", \"slab\", \"mapped\", \"anon\", \"anonh\", \"inactive\", \"hits\")\n",
    "COLLECTL_MEM_METRIC = \"free\"\n",
    "\n",
    "collectl_mem_log_analysis.plot_mem_metric(mem_metric=COLLECTL_MEM_METRIC, interval=INTERVAL)"
   ]
  }
 ],
 "metadata": {
  "interpreter": {
   "hash": "31f2aee4e71d21fbe5cf8b01ff0e069b9275f58929596ceb00d14d90e3e16cd6"
  },
  "kernelspec": {
   "display_name": "Python 3 (ipykernel)",
   "language": "python",
   "name": "python3"
  },
  "language_info": {
   "codemirror_mode": {
    "name": "ipython",
    "version": 3
   },
   "file_extension": ".py",
   "mimetype": "text/x-python",
   "name": "python",
   "nbconvert_exporter": "python",
   "pygments_lexer": "ipython3",
   "version": "3.8.10"
  }
 },
 "nbformat": 4,
 "nbformat_minor": 2
}
