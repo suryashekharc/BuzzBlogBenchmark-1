{
 "cells": [
  {
   "cell_type": "markdown",
   "metadata": {},
   "source": [
    "# Request Log Analysis"
   ]
  },
  {
   "cell_type": "markdown",
   "metadata": {},
   "source": [
    "## Functionalities\n",
    "- Display a summary of requests and their performance metrics.\n",
    "\n",
    "## Input\n",
    "Log files are read from a directory in `../data`. This directory is assumed to have the following structure:\n",
    "```\n",
    "logs/\n",
    "  [node-1]/\n",
    "    loadgen[0-9]*.tar.gz\n",
    "  ...\n",
    "  [node-n]/\n",
    "    loadgen[0-9]*.tar.gz\n",
    "```"
   ]
  },
  {
   "cell_type": "markdown",
   "metadata": {},
   "source": [
    "## Notebook Configuration"
   ]
  },
  {
   "cell_type": "code",
   "execution_count": null,
   "metadata": {},
   "outputs": [],
   "source": [
    "########## GENERAL\n",
    "# Name of the directory in `../data`\n",
    "EXPERIMENT_DIRNAME = \"BuzzBlogBenchmark_[TIMESTAMP]\""
   ]
  },
  {
   "cell_type": "markdown",
   "metadata": {},
   "source": [
    "## Notebook Setup"
   ]
  },
  {
   "cell_type": "code",
   "execution_count": null,
   "metadata": {},
   "outputs": [],
   "source": [
    "import os\n",
    "import sys\n",
    "\n",
    "sys.path.append(os.path.abspath(os.path.join(\"..\")))\n",
    "from utils.utils import *\n",
    "from utils.plot_experiment_graphs import RequestLogAnalysis\n",
    "\n",
    "experiment_dirpath = os.path.join(os.path.abspath(\"\"), \"..\", \"data\", EXPERIMENT_DIRNAME)"
   ]
  },
  {
   "cell_type": "markdown",
   "metadata": {},
   "source": [
    "## Log Parsing & Processing"
   ]
  },
  {
   "cell_type": "code",
   "execution_count": null,
   "metadata": {},
   "outputs": [],
   "source": [
    "request_log_analysis = RequestLogAnalysis(experiment_dirpath)"
   ]
  },
  {
   "cell_type": "markdown",
   "metadata": {},
   "source": [
    "## Number of Successful/Failed Requests"
   ]
  },
  {
   "cell_type": "code",
   "execution_count": null,
   "metadata": {},
   "outputs": [],
   "source": [
    "request_log_analysis.plot_number_of_successful_failed_requests()"
   ]
  },
  {
   "cell_type": "markdown",
   "metadata": {},
   "source": [
    "## HTTP Status Code of Failed Requests"
   ]
  },
  {
   "cell_type": "code",
   "execution_count": null,
   "metadata": {},
   "outputs": [],
   "source": [
    "request_log_analysis.plot_http_status_code_of_failed_requests()"
   ]
  },
  {
   "cell_type": "markdown",
   "metadata": {},
   "source": [
    "## Number of Read/Write Requests"
   ]
  },
  {
   "cell_type": "code",
   "execution_count": null,
   "metadata": {},
   "outputs": [],
   "source": [
    "request_log_analysis.plot_number_of_read_write_requests()"
   ]
  },
  {
   "cell_type": "markdown",
   "metadata": {},
   "source": [
    "## Number of Requests of Each Type"
   ]
  },
  {
   "cell_type": "code",
   "execution_count": null,
   "metadata": {},
   "outputs": [],
   "source": [
    "request_log_analysis.plot_number_of_requests_of_each_type()"
   ]
  },
  {
   "cell_type": "markdown",
   "metadata": {},
   "source": [
    "## Latency Distribution of Requests"
   ]
  },
  {
   "cell_type": "code",
   "execution_count": null,
   "metadata": {},
   "outputs": [],
   "source": [
    "########## LATENCY\n",
    "# Bin size\n",
    "LATENCY_BIN_IN_MS = 25\n",
    "########## TEXT\n",
    "# Position to place the text\n",
    "TEXT_Y = None\n",
    "\n",
    "request_log_analysis.plot_latency_distribution_of_requests(latency_bin_in_ms=LATENCY_BIN_IN_MS, text_y=TEXT_Y)"
   ]
  },
  {
   "cell_type": "markdown",
   "metadata": {},
   "source": [
    "## Instantaneous Latency of Requests"
   ]
  },
  {
   "cell_type": "code",
   "execution_count": null,
   "metadata": {},
   "outputs": [],
   "source": [
    "########## ZOOM IN\n",
    "# Minimum and maximum time (in sec)\n",
    "INTERVAL = None\n",
    "########## LATENCY\n",
    "# Percentiles\n",
    "LATENCY_PERCENTILES = [0.50, 0.95, 0.99, 0.999]\n",
    "########## REQUESTS\n",
    "# Filter request type\n",
    "REQUEST_TYPE = None\n",
    "\n",
    "request_log_analysis.plot_instantaneous_latency_of_requests(latency_percentiles=LATENCY_PERCENTILES, interval=INTERVAL,\n",
    "    request_type=REQUEST_TYPE)"
   ]
  },
  {
   "cell_type": "markdown",
   "metadata": {},
   "source": [
    "## Request Throughput"
   ]
  },
  {
   "cell_type": "code",
   "execution_count": null,
   "metadata": {},
   "outputs": [],
   "source": [
    "########## ZOOM IN\n",
    "# Minimum and maximum time (in sec)\n",
    "INTERVAL = None\n",
    "\n",
    "request_log_analysis.plot_request_throughput(interval=INTERVAL)"
   ]
  },
  {
   "cell_type": "markdown",
   "metadata": {},
   "source": [
    "## Summary"
   ]
  },
  {
   "cell_type": "code",
   "execution_count": null,
   "metadata": {},
   "outputs": [],
   "source": [
    "stats = request_log_analysis.calculate_stats()\n",
    "print(\"Number of requests (Excluding Ramping Up and Down Periods)\")\n",
    "print(\"  Total:       %7d\" % stats[\"requests_count_total\"])\n",
    "print(\"  Status\")\n",
    "print(\"    Succesful: %7d (%9.5f%%)\" % (stats[\"requests_count_successful\"], stats[\"requests_ratio_successful\"] * 100))\n",
    "print(\"    Failed:    %7d (%9.5f%%)\" % (stats[\"requests_count_failed\"], stats[\"requests_ratio_failed\"] * 100))\n",
    "print(\"  Type\")\n",
    "print(\"    Read:      %7d (%9.5f%%)\" % (stats[\"requests_count_read\"], stats[\"requests_ratio_read\"] * 100))\n",
    "print(\"    Write:     %7d (%9.5f%%)\" % (stats[\"requests_count_write\"], stats[\"requests_ratio_write\"] * 100))\n",
    "print(\"Latency (ms)\")\n",
    "print(\"P99.9:         %7.2f\" % (stats[\"requests_latency_p999\"]))\n",
    "print(\"  P99:         %7.2f\" % (stats[\"requests_latency_p99\"]))\n",
    "print(\"  P95:         %7.2f\" % (stats[\"requests_latency_p95\"]))\n",
    "print(\"  P50:         %7.2f\" % (stats[\"requests_latency_p50\"]))\n",
    "print(\"  Avg:         %7.2f\" % (stats[\"requests_latency_avg\"]))\n",
    "print(\"  Std:         %7.2f\" % (stats[\"requests_latency_std\"]))\n",
    "print(\"  Max:         %7.2f\" % (stats[\"requests_latency_max\"]))\n",
    "print(\"Throughput (req/s)\")\n",
    "print(\"P99.9:         %7.2f\" % (stats[\"requests_throughput_p999\"]))\n",
    "print(\"  P99:         %7.2f\" % (stats[\"requests_throughput_p99\"]))\n",
    "print(\"  P95:         %7.2f\" % (stats[\"requests_throughput_p95\"]))\n",
    "print(\"  P50:         %7.2f\" % (stats[\"requests_throughput_p50\"]))\n",
    "print(\"  Avg:         %7.2f\" % (stats[\"requests_throughput_avg\"]))\n",
    "print(\"  Std:         %7.2f\" % (stats[\"requests_throughput_std\"]))\n",
    "print(\"  Max:         %7.2f\" % (stats[\"requests_throughput_max\"]))"
   ]
  }
 ],
 "metadata": {
  "kernelspec": {
   "display_name": "Python 3.8.10 64-bit",
   "language": "python",
   "name": "python3"
  },
  "language_info": {
   "codemirror_mode": {
    "name": "ipython",
    "version": 3
   },
   "file_extension": ".py",
   "mimetype": "text/x-python",
   "name": "python",
   "nbconvert_exporter": "python",
   "pygments_lexer": "ipython3",
   "version": "3.8.10"
  },
  "vscode": {
   "interpreter": {
    "hash": "916dbcbb3f70747c44a77c7bcd40155683ae19c65e1c03b4aa3499c5328201f1"
   }
  }
 },
 "nbformat": 4,
 "nbformat_minor": 2
}
