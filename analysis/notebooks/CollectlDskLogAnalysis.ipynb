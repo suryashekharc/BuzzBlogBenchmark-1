{
 "cells": [
  {
   "cell_type": "markdown",
   "metadata": {},
   "source": [
    "# Collectl Dsk Log Analysis"
   ]
  },
  {
   "cell_type": "markdown",
   "metadata": {},
   "source": [
    "## Functionalities\n",
    "- Plot disk I/O utilization graphs.\n",
    "\n",
    "## Input\n",
    "Log files are read from a directory in `../data`. This directory is assumed to have the following structure:\n",
    "```\n",
    "logs/\n",
    "  [node-1]/\n",
    "    collectl.tar.gz\n",
    "  ...\n",
    "  [node-n]/\n",
    "    collectl.tar.gz\n",
    "```"
   ]
  },
  {
   "cell_type": "markdown",
   "metadata": {},
   "source": [
    "## Notebook Configuration"
   ]
  },
  {
   "cell_type": "code",
   "execution_count": null,
   "metadata": {},
   "outputs": [],
   "source": [
    "########## GENERAL\n",
    "# Name of the directory in `../data`\n",
    "EXPERIMENT_DIRNAME = \"BuzzBlogBenchmark_[TIMESTAMP]\""
   ]
  },
  {
   "cell_type": "markdown",
   "metadata": {},
   "source": [
    "## Notebook Setup"
   ]
  },
  {
   "cell_type": "code",
   "execution_count": null,
   "metadata": {},
   "outputs": [],
   "source": [
    "import os\n",
    "import sys\n",
    "\n",
    "sys.path.append(os.path.abspath(os.path.join(\"..\")))\n",
    "from utils.utils import *\n",
    "from utils.plot_experiment_graphs import CollectlDskLogAnalysis\n",
    "\n",
    "experiment_dirpath = os.path.join(os.path.abspath(\"\"), \"..\", \"data\", EXPERIMENT_DIRNAME)"
   ]
  },
  {
   "cell_type": "markdown",
   "metadata": {},
   "source": [
    "## Log Parsing & Processing"
   ]
  },
  {
   "cell_type": "code",
   "execution_count": null,
   "metadata": {},
   "outputs": [],
   "source": [
    "collectl_dsk_log_analysis = CollectlDskLogAnalysis(experiment_dirpath)"
   ]
  },
  {
   "cell_type": "markdown",
   "metadata": {},
   "source": [
    "## Disk Monitoring (1-sec window)"
   ]
  },
  {
   "cell_type": "code",
   "execution_count": null,
   "metadata": {},
   "outputs": [],
   "source": [
    "########## DISK I/O\n",
    "# Analyzed metric (options: \"name\", \"reads\", \"rmerge\", \"rkbytes\", \"waitr\", \"writes\", \"wmerge\", \"wkbytes\", \"waitw\",\n",
    "# \"request\", \"quelen\", \"wait\", \"svctim\", \"util\")\n",
    "COLLECTL_DSK_METRIC = \"writes\"\n",
    "\n",
    "collectl_dsk_log_analysis.plot_averaged_dsk_metric(dsk_metric=COLLECTL_DSK_METRIC)"
   ]
  },
  {
   "cell_type": "markdown",
   "metadata": {},
   "source": [
    "## Disk Monitoring (millisec window)"
   ]
  },
  {
   "cell_type": "code",
   "execution_count": null,
   "metadata": {},
   "outputs": [],
   "source": [
    "########## ZOOM IN\n",
    "# Minimum and maximum time (in sec)\n",
    "INTERVAL = None\n",
    "########## DISK I/O\n",
    "# Analyzed metric (options: \"name\", \"reads\", \"rmerge\", \"rkbytes\", \"waitr\", \"writes\", \"wmerge\", \"wkbytes\", \"waitw\",\n",
    "# \"request\", \"quelen\", \"wait\", \"svctim\", \"util\")\n",
    "COLLECTL_DSK_METRIC = \"writes\"\n",
    "\n",
    "collectl_dsk_log_analysis.plot_dsk_metric(dsk_metric=COLLECTL_DSK_METRIC, interval=INTERVAL)"
   ]
  },
  {
   "cell_type": "markdown",
   "metadata": {},
   "source": [
    "## Summary"
   ]
  },
  {
   "cell_type": "code",
   "execution_count": null,
   "metadata": {},
   "outputs": [],
   "source": [
    "stats = collectl_dsk_log_analysis.calculate_stats()\n",
    "for node_name in get_node_names(experiment_dirpath):\n",
    "  node_label = get_node_label(experiment_dirpath, node_name)\n",
    "  print(\"%s: %s\" % (node_name, node_label))\n",
    "  for dsk_metric in [\"reads\", \"writes\", \"rkbytes\", \"wkbytes\", \"quelen\", \"wait\"]:\n",
    "    print(\"  %s\" % dsk_metric)\n",
    "    print(\"  P99.9: %3.2f\" % (stats[\"collectl_dsk_%s_%s_p999\" % (node_label, dsk_metric)]))\n",
    "    print(\"    P99: %3.2f\" % (stats[\"collectl_dsk_%s_%s_p99\" % (node_label, dsk_metric)]))\n",
    "    print(\"    P95: %3.2f\" % (stats[\"collectl_dsk_%s_%s_p95\" % (node_label, dsk_metric)]))\n",
    "    print(\"    P50: %3.2f\" % (stats[\"collectl_dsk_%s_%s_p50\" % (node_label, dsk_metric)]))\n",
    "    print(\"    Avg: %3.2f\" % (stats[\"collectl_dsk_%s_%s_avg\" % (node_label, dsk_metric)]))\n",
    "    print(\"    Std: %3.2f\" % (stats[\"collectl_dsk_%s_%s_std\" % (node_label, dsk_metric)]))\n",
    "    print(\"    Max: %3.2f\" % (stats[\"collectl_dsk_%s_%s_max\" % (node_label, dsk_metric)]))"
   ]
  }
 ],
 "metadata": {
  "kernelspec": {
   "display_name": "Python 3.8.10 64-bit",
   "language": "python",
   "name": "python3"
  },
  "language_info": {
   "codemirror_mode": {
    "name": "ipython",
    "version": 3
   },
   "file_extension": ".py",
   "mimetype": "text/x-python",
   "name": "python",
   "nbconvert_exporter": "python",
   "pygments_lexer": "ipython3",
   "version": "3.8.10"
  },
  "vscode": {
   "interpreter": {
    "hash": "916dbcbb3f70747c44a77c7bcd40155683ae19c65e1c03b4aa3499c5328201f1"
   }
  }
 },
 "nbformat": 4,
 "nbformat_minor": 2
}
