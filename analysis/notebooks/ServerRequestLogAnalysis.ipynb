{
 "cells": [
  {
   "cell_type": "markdown",
   "metadata": {},
   "source": [
    "# Server Request Log Analysis"
   ]
  },
  {
   "cell_type": "markdown",
   "metadata": {},
   "source": [
    "## Functionalities\n",
    "- Plot number of concurrent server requests.\n",
    "\n",
    "## Input\n",
    "Log files are read from a directory in `../data`. This directory is assumed to have the following structure:\n",
    "```\n",
    "logs/\n",
    "  [node-1]/\n",
    "    *_service*.tar.gz\n",
    "    ...\n",
    "    apigateway*.tar.gz\n",
    "  ...\n",
    "  [node-n]/\n",
    "    *_service*.tar.gz\n",
    "    ...\n",
    "    apigateway*.tar.gz\n",
    "```"
   ]
  },
  {
   "cell_type": "markdown",
   "metadata": {},
   "source": [
    "## Notebook Configuration"
   ]
  },
  {
   "cell_type": "code",
   "execution_count": null,
   "metadata": {},
   "outputs": [],
   "source": [
    "########## GENERAL\n",
    "# Name of the directory in `../data`\n",
    "EXPERIMENT_DIRNAME = \"BuzzBlogBenchmark_[TIMESTAMP]\""
   ]
  },
  {
   "cell_type": "markdown",
   "metadata": {},
   "source": [
    "## Notebook Setup"
   ]
  },
  {
   "cell_type": "code",
   "execution_count": null,
   "metadata": {},
   "outputs": [],
   "source": [
    "import os\n",
    "import sys\n",
    "\n",
    "sys.path.append(os.path.abspath(os.path.join(\"..\")))\n",
    "from utils.utils import *\n",
    "from utils.plot_experiment_graphs import ServerRequestLogAnalysis\n",
    "\n",
    "experiment_dirpath = os.path.join(os.path.abspath(\"\"), \"..\", \"data\", EXPERIMENT_DIRNAME)"
   ]
  },
  {
   "cell_type": "markdown",
   "metadata": {},
   "source": [
    "## Log Parsing & Processing"
   ]
  },
  {
   "cell_type": "code",
   "execution_count": null,
   "metadata": {},
   "outputs": [],
   "source": [
    "server_request_log_analysis = ServerRequestLogAnalysis(experiment_dirpath)"
   ]
  },
  {
   "cell_type": "markdown",
   "metadata": {},
   "source": [
    "## Number of Concurrent Server Requests in API Gateways"
   ]
  },
  {
   "cell_type": "code",
   "execution_count": null,
   "metadata": {},
   "outputs": [],
   "source": [
    "########## ZOOM IN\n",
    "# Minimum and maximum time (in sec)\n",
    "INTERVAL = None\n",
    "\n",
    "server_request_log_analysis.plot_number_of_concurrent_server_requests_in_apigateways(interval=INTERVAL)"
   ]
  },
  {
   "cell_type": "markdown",
   "metadata": {},
   "source": [
    "## Number of Concurrent Server Requests in Microservices"
   ]
  },
  {
   "cell_type": "code",
   "execution_count": null,
   "metadata": {},
   "outputs": [],
   "source": [
    "########## ZOOM IN\n",
    "# Minimum and maximum time (in sec)\n",
    "INTERVAL = None\n",
    "\n",
    "server_request_log_analysis.plot_number_of_concurrent_server_requests_in_microservices(interval=INTERVAL)"
   ]
  },
  {
   "cell_type": "markdown",
   "metadata": {},
   "source": [
    "## Number of Concurrent Server Requests in Databases"
   ]
  },
  {
   "cell_type": "code",
   "execution_count": null,
   "metadata": {},
   "outputs": [],
   "source": [
    "########## ZOOM IN\n",
    "# Minimum and maximum time (in sec)\n",
    "INTERVAL = None\n",
    "\n",
    "server_request_log_analysis.plot_number_of_concurrent_server_requests_in_databases(interval=INTERVAL)"
   ]
  },
  {
   "cell_type": "markdown",
   "metadata": {},
   "source": [
    "## Number of Concurrent Server Requests in Redis"
   ]
  },
  {
   "cell_type": "code",
   "execution_count": null,
   "metadata": {},
   "outputs": [],
   "source": [
    "########## ZOOM IN\n",
    "# Minimum and maximum time (in sec)\n",
    "INTERVAL = None\n",
    "\n",
    "server_request_log_analysis.plot_number_of_concurrent_server_requests_in_redis(interval=INTERVAL)"
   ]
  },
  {
   "cell_type": "markdown",
   "metadata": {},
   "source": [
    "## Summary"
   ]
  },
  {
   "cell_type": "code",
   "execution_count": null,
   "metadata": {},
   "outputs": [],
   "source": [
    "stats = server_request_log_analysis.calculate_stats()\n",
    "for node_name in server_request_log_analysis._apigateway_node_names:\n",
    "  print(\"%s API Gateway\" % node_name)\n",
    "  print(\"  Count (Concurrent Server Requests)\")\n",
    "  print(\"  P99.9: %6d\" % stats[\"apigateway_%s_count_p999\" % node_name])\n",
    "  print(\"    P99: %6d\" % stats[\"apigateway_%s_count_p99\" % node_name])\n",
    "  print(\"    P95: %6d\" % stats[\"apigateway_%s_count_p95\" % node_name])\n",
    "  print(\"    P50: %6d\" % stats[\"apigateway_%s_count_p50\" % node_name])\n",
    "  print(\"    Avg: %6d\" % stats[\"apigateway_%s_count_avg\" % node_name])\n",
    "  print(\"    Std: %6d\" % stats[\"apigateway_%s_count_std\" % node_name])\n",
    "  print(\"    Max: %6d\" % stats[\"apigateway_%s_count_max\" % node_name])\n",
    "for service in server_request_log_analysis._services:\n",
    "  service_name = server_request_log_analysis._node_labels[service.split(':')[0]]\n",
    "  print(\"%s\" % service_name)\n",
    "  print(\"  Count (Concurrent Server Requests)\")\n",
    "  print(\"  P99.9: %6d\" % stats[\"service_%s_count_p999\" % service_name])\n",
    "  print(\"    P99: %6d\" % stats[\"service_%s_count_p99\" % service_name])\n",
    "  print(\"    P95: %6d\" % stats[\"service_%s_count_p95\" % service_name])\n",
    "  print(\"    P50: %6d\" % stats[\"service_%s_count_p50\" % service_name])\n",
    "  print(\"    Avg: %6d\" % stats[\"service_%s_count_avg\" % service_name])\n",
    "  print(\"    Std: %6d\" % stats[\"service_%s_count_std\" % service_name])\n",
    "  print(\"    Max: %6d\" % stats[\"service_%s_count_max\" % service_name])\n",
    "for dbname in server_request_log_analysis._dbnames:\n",
    "  print(\"%s database\" % dbname)\n",
    "  print(\"  Count (Concurrent Server Requests)\")\n",
    "  print(\"  P99.9: %6d\" % stats[\"db_%s_count_p999\" % dbname])\n",
    "  print(\"    P99: %6d\" % stats[\"db_%s_count_p99\" % dbname])\n",
    "  print(\"    P95: %6d\" % stats[\"db_%s_count_p95\" % dbname])\n",
    "  print(\"    P50: %6d\" % stats[\"db_%s_count_p50\" % dbname])\n",
    "  print(\"    Avg: %6d\" % stats[\"db_%s_count_avg\" % dbname])\n",
    "  print(\"    Std: %6d\" % stats[\"db_%s_count_std\" % dbname])\n",
    "  print(\"    Max: %6d\" % stats[\"db_%s_count_max\" % dbname])\n",
    "for service in server_request_log_analysis._redis_services:\n",
    "  print(\"%s Redis\" % service)\n",
    "  print(\"  Count (Concurrent Server Requests)\")\n",
    "  print(\"  P99.9: %6d\" % stats[\"redis_%s_count_p999\" % service])\n",
    "  print(\"    P99: %6d\" % stats[\"redis_%s_count_p99\" % service])\n",
    "  print(\"    P95: %6d\" % stats[\"redis_%s_count_p95\" % service])\n",
    "  print(\"    P50: %6d\" % stats[\"redis_%s_count_p50\" % service])\n",
    "  print(\"    Avg: %6d\" % stats[\"redis_%s_count_avg\" % service])\n",
    "  print(\"    Std: %6d\" % stats[\"redis_%s_count_std\" % service])\n",
    "  print(\"    Max: %6d\" % stats[\"redis_%s_count_max\" % service])"
   ]
  }
 ],
 "metadata": {
  "interpreter": {
   "hash": "916dbcbb3f70747c44a77c7bcd40155683ae19c65e1c03b4aa3499c5328201f1"
  },
  "kernelspec": {
   "display_name": "Python 3 (ipykernel)",
   "language": "python",
   "name": "python3"
  },
  "language_info": {
   "codemirror_mode": {
    "name": "ipython",
    "version": 3
   },
   "file_extension": ".py",
   "mimetype": "text/x-python",
   "name": "python",
   "nbconvert_exporter": "python",
   "pygments_lexer": "ipython3",
   "version": "3.8.10"
  }
 },
 "nbformat": 4,
 "nbformat_minor": 2
}
